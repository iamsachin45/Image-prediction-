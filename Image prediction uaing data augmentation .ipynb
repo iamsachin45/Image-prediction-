{
  "nbformat": 4,
  "nbformat_minor": 0,
  "metadata": {
    "colab": {
      "name": "Untitled3.ipynb",
      "provenance": [],
      "mount_file_id": "1Fl3NvspocB4oPJcYFG35QtNGgWgatxoO",
      "authorship_tag": "ABX9TyP8v7Cl4DXuiG7ng/vPo5ND",
      "include_colab_link": true
    },
    "kernelspec": {
      "name": "python3",
      "display_name": "Python 3"
    },
    "language_info": {
      "name": "python"
    }
  },
  "cells": [
    {
      "cell_type": "markdown",
      "metadata": {
        "id": "view-in-github",
        "colab_type": "text"
      },
      "source": [
        "<a href=\"https://colab.research.google.com/github/iamsachin45/Image-prediction-/blob/main/Image%20prediction%20uaing%20data%20augmentation%20.ipynb\" target=\"_parent\"><img src=\"https://colab.research.google.com/assets/colab-badge.svg\" alt=\"Open In Colab\"/></a>"
      ]
    },
    {
      "cell_type": "code",
      "metadata": {
        "id": "B_hyW5GQAHRG"
      },
      "source": [
        "import cv2 as cv\n",
        "from tensorflow.keras import datasets,layers,models\n",
        "from keras.preprocessing.image import ImageDataGenerator,image,img_to_array\n",
        "import tensorflow as tf\n",
        "import os\n",
        "import matplotlib.pyplot as plt\n",
        "import numpy as np\n",
        "\n"
      ],
      "execution_count": 79,
      "outputs": []
    },
    {
      "cell_type": "code",
      "metadata": {
        "id": "B1j9AZK1DQyn"
      },
      "source": [
        "from keras.models import Sequential\n",
        "from keras.layers import Conv2D, MaxPooling2D\n",
        "from keras.layers import Activation, Dropout, Flatten, Dense\n",
        "\n",
        "model = Sequential()\n",
        "model.add(Conv2D(32, (3, 3), input_shape=(150,150,3)))\n",
        "model.add(Activation('relu'))\n",
        "model.add(MaxPooling2D(pool_size=(2, 2)))\n",
        "\n",
        "model.add(Conv2D(32, (3, 3)))\n",
        "model.add(Activation('relu'))\n",
        "model.add(MaxPooling2D(pool_size=(2, 2)))\n",
        "\n",
        "model.add(Conv2D(64, (3, 3)))\n",
        "model.add(Activation('relu'))\n",
        "model.add(MaxPooling2D(pool_size=(2, 2)))"
      ],
      "execution_count": 99,
      "outputs": []
    },
    {
      "cell_type": "code",
      "metadata": {
        "id": "rifpgIOA8P5q"
      },
      "source": [
        "model.add(Flatten())  # this converts our 3D feature maps to 1D feature vectors\n",
        "model.add(Dense(64))\n",
        "model.add(Activation('relu'))\n",
        "model.add(Dropout(0.5))\n",
        "model.add(Dense(1))\n",
        "model.add(Activation('sigmoid'))"
      ],
      "execution_count": 100,
      "outputs": []
    },
    {
      "cell_type": "code",
      "metadata": {
        "colab": {
          "base_uri": "https://localhost:8080/"
        },
        "id": "giuugUiL8VQi",
        "outputId": "231650aa-8b0b-4e75-bb8a-f7698eccfe14"
      },
      "source": [
        "batch_size = 16\n",
        "train_datagen = ImageDataGenerator(\n",
        "    \n",
        "    rescale=1./255,\n",
        "        shear_range=0.2,\n",
        "        zoom_range=0.2,\n",
        "        horizontal_flip=True\n",
        ")\n",
        "test_datagen = ImageDataGenerator(rescale=1./255)\n",
        "\n",
        "# this is a generator that will read pictures found in\n",
        "# subfolers of 'data/train', and indefinitely generate\n",
        "# batches of augmented image data\n",
        "train_generator = train_datagen.flow_from_directory(\n",
        "        '/content/drive/MyDrive/photos/train',  # this is the target directory\n",
        "        target_size=(150, 150),  # all images will be resized to 150x150\n",
        "        batch_size=batch_size,\n",
        "        class_mode='binary')  # since we use binary_crossentropy loss, we need binary labels\n",
        "\n",
        "# this is a similar generator, for validation data\n",
        "validation_generator = test_datagen.flow_from_directory(\n",
        "        '/content/drive/MyDrive/photos/validation',\n",
        "        target_size=(150,150),\n",
        "        batch_size=batch_size,\n",
        "        class_mode='binary')"
      ],
      "execution_count": 101,
      "outputs": [
        {
          "output_type": "stream",
          "name": "stdout",
          "text": [
            "Found 66 images belonging to 2 classes.\n",
            "Found 70 images belonging to 2 classes.\n"
          ]
        }
      ]
    },
    {
      "cell_type": "code",
      "metadata": {
        "colab": {
          "base_uri": "https://localhost:8080/"
        },
        "id": "6G9oi-QiNgSZ",
        "outputId": "ad5790ab-351a-4f23-ab5f-e853dff4f5f8"
      },
      "source": [
        "model.compile(optimizer='adam',\n",
        "              loss='binary_crossentropy',\n",
        "              metrics=['accuracy'])\n",
        "\n",
        "history = model.fit(train_generator, epochs=20, \n",
        "                    validation_data=(validation_generator))"
      ],
      "execution_count": 107,
      "outputs": [
        {
          "output_type": "stream",
          "name": "stdout",
          "text": [
            "Epoch 1/20\n",
            "5/5 [==============================] - 4s 798ms/step - loss: 0.2238 - accuracy: 0.9091 - val_loss: 0.1993 - val_accuracy: 1.0000\n",
            "Epoch 2/20\n",
            "5/5 [==============================] - 4s 694ms/step - loss: 0.2673 - accuracy: 0.9848 - val_loss: 0.2063 - val_accuracy: 0.9714\n",
            "Epoch 3/20\n",
            "5/5 [==============================] - 4s 851ms/step - loss: 0.2008 - accuracy: 0.9091 - val_loss: 0.1482 - val_accuracy: 1.0000\n",
            "Epoch 4/20\n",
            "5/5 [==============================] - 4s 863ms/step - loss: 0.1501 - accuracy: 0.9697 - val_loss: 0.0930 - val_accuracy: 1.0000\n",
            "Epoch 5/20\n",
            "5/5 [==============================] - 4s 693ms/step - loss: 0.1089 - accuracy: 0.9848 - val_loss: 0.0402 - val_accuracy: 1.0000\n",
            "Epoch 6/20\n",
            "5/5 [==============================] - 4s 685ms/step - loss: 0.0670 - accuracy: 0.9697 - val_loss: 0.0215 - val_accuracy: 1.0000\n",
            "Epoch 7/20\n",
            "5/5 [==============================] - 4s 720ms/step - loss: 0.0766 - accuracy: 0.9394 - val_loss: 0.0097 - val_accuracy: 1.0000\n",
            "Epoch 8/20\n",
            "5/5 [==============================] - 4s 866ms/step - loss: 0.0280 - accuracy: 1.0000 - val_loss: 0.0057 - val_accuracy: 1.0000\n",
            "Epoch 9/20\n",
            "5/5 [==============================] - 4s 693ms/step - loss: 0.0409 - accuracy: 1.0000 - val_loss: 0.0048 - val_accuracy: 1.0000\n",
            "Epoch 10/20\n",
            "5/5 [==============================] - 4s 697ms/step - loss: 0.0581 - accuracy: 0.9697 - val_loss: 0.0042 - val_accuracy: 1.0000\n",
            "Epoch 11/20\n",
            "5/5 [==============================] - 4s 684ms/step - loss: 0.0223 - accuracy: 1.0000 - val_loss: 0.0027 - val_accuracy: 1.0000\n",
            "Epoch 12/20\n",
            "5/5 [==============================] - 4s 698ms/step - loss: 0.0239 - accuracy: 1.0000 - val_loss: 0.0014 - val_accuracy: 1.0000\n",
            "Epoch 13/20\n",
            "5/5 [==============================] - 4s 727ms/step - loss: 0.0283 - accuracy: 0.9697 - val_loss: 0.0022 - val_accuracy: 1.0000\n",
            "Epoch 14/20\n",
            "5/5 [==============================] - 4s 689ms/step - loss: 0.0254 - accuracy: 1.0000 - val_loss: 0.0029 - val_accuracy: 1.0000\n",
            "Epoch 15/20\n",
            "5/5 [==============================] - 4s 681ms/step - loss: 0.0427 - accuracy: 1.0000 - val_loss: 0.0026 - val_accuracy: 1.0000\n",
            "Epoch 16/20\n",
            "5/5 [==============================] - 4s 717ms/step - loss: 0.0494 - accuracy: 1.0000 - val_loss: 0.0031 - val_accuracy: 1.0000\n",
            "Epoch 17/20\n",
            "5/5 [==============================] - 4s 737ms/step - loss: 0.0304 - accuracy: 1.0000 - val_loss: 0.0050 - val_accuracy: 1.0000\n",
            "Epoch 18/20\n",
            "5/5 [==============================] - 4s 694ms/step - loss: 0.0246 - accuracy: 1.0000 - val_loss: 0.0029 - val_accuracy: 1.0000\n",
            "Epoch 19/20\n",
            "5/5 [==============================] - 4s 682ms/step - loss: 0.0448 - accuracy: 0.9848 - val_loss: 0.0013 - val_accuracy: 1.0000\n",
            "Epoch 20/20\n",
            "5/5 [==============================] - 4s 729ms/step - loss: 0.0147 - accuracy: 1.0000 - val_loss: 7.5348e-04 - val_accuracy: 1.0000\n"
          ]
        }
      ]
    },
    {
      "cell_type": "code",
      "metadata": {
        "colab": {
          "base_uri": "https://localhost:8080/"
        },
        "id": "fetS4RYHQNqb",
        "outputId": "71ee0416-841f-4856-d473-f668c6547661"
      },
      "source": [
        "validation_generator.class_indices"
      ],
      "execution_count": 113,
      "outputs": [
        {
          "output_type": "execute_result",
          "data": {
            "text/plain": [
              "{'notsachin': 0, 'sachin': 1}"
            ]
          },
          "metadata": {},
          "execution_count": 113
        }
      ]
    },
    {
      "cell_type": "code",
      "metadata": {
        "id": "hS0j0UtzVfx5"
      },
      "source": [
        "from PIL import Image"
      ],
      "execution_count": 53,
      "outputs": []
    },
    {
      "cell_type": "code",
      "metadata": {
        "colab": {
          "base_uri": "https://localhost:8080/"
        },
        "id": "2wvd61L3QpvN",
        "outputId": "419b3ed8-dbb7-4199-ef77-d58723e31713"
      },
      "source": [
        "dir_path = '/content/drive/MyDrive/photos/test'\n",
        "\n",
        "# print(dir_path + 'frame(0).jpg')\n",
        "img = Image.open(r\"/content/drive/MyDrive/photos/test/frame (5).jpg\")\n",
        "# img = Image.open(r\"/content/drive/MyDrive/photos/test/notsachi.jpg\")\n",
        "# img = Image.open(r\"/content/drive/MyDrive/photos/test/frame (1).jpg\")\n",
        "# plt.imshow(img)\n",
        "\n",
        "# for i in os.listdir(dir_path):\n",
        "#    img = image.load_img(dir_path+\"//\" + i)\n",
        "#   #  print(img)\n",
        "#   #  plt.imshow(img)\n",
        "#   #  plt.show()\n",
        "#    X = np.expand_dims(X,axis=0)\n",
        "#    X = image.img_to_array(img)\n",
        "#    val = model.predict(X)\n",
        "#    print(val)\n",
        "   \n",
        "\n",
        "\n",
        "# print(p)\n",
        "\n",
        "# print(img)\n",
        "  # plt.imshow(img)\n",
        "  # plt.show()\n",
        "# print(img)\n",
        "X = image.img_to_array(img)\n",
        "X = np.expand_dims(X,axis=0)\n",
        "val = model.predict(X)\n",
        "print(val)\n",
        "\n"
      ],
      "execution_count": 118,
      "outputs": [
        {
          "output_type": "stream",
          "name": "stdout",
          "text": [
            "[[1.]]\n"
          ]
        }
      ]
    }
  ]
}